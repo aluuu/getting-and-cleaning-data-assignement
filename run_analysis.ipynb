{
 "cells": [
  {
   "cell_type": "code",
   "execution_count": 1,
   "metadata": {
    "collapsed": false
   },
   "outputs": [
    {
     "name": "stderr",
     "output_type": "stream",
     "text": [
      "Installing package into ‘/usr/local/lib/R/3.3/site-library’\n",
      "(as ‘lib’ is unspecified)\n",
      "Warning message:\n",
      "In install.packages(\"dplyr\"): installation of package ‘dplyr’ had non-zero exit statusWarning message:\n",
      ": S3 methods ‘[.fun_list’, ‘[.grouped_df’, ‘all.equal.tbl_df’, ‘anti_join.data.frame’, ‘anti_join.tbl_df’, ‘anti_join.tbl_lazy’, ‘arrange_.data.frame’, ‘arrange_.tbl_df’, ‘arrange_.tbl_lazy’, ‘as.data.frame.grouped_df’, ‘as.data.frame.rowwise_df’, ‘as.data.frame.tbl_cube’, ‘as.data.frame.tbl_df’, ‘as.data.frame.tbl_sql’, ‘as.fun_list.function’, ‘as.fun_list.character’, ‘as.fun_list.fun_list’, ‘as.table.tbl_cube’, ‘as.tbl.data.frame’, ‘as.tbl.tbl’, ‘as.tbl_cube.array’, ‘as.tbl_cube.data.frame’, ‘as.tbl_cube.matrix’, ‘as.tbl_cube.table’, ‘as_data_frame.grouped_df’, ‘as_data_frame.tbl_cube’, ‘auto_copy.tbl_cube’, ‘auto_copy.tbl_df’, ‘auto_copy.tbl_sql’, ‘c.sql’, ‘cbind.grouped_df’, ‘collapse.data.frame’, ‘collapse.tbl_sql’, ‘collect.data.frame’, ‘collect.tbl_sql’, ‘compute.data.frame’, ‘compute.tbl_sql’, ‘copy_to.src_local’, ‘copy_to.src_sql’, ‘db_analyze.DBIConnection’, ‘db_analyze.MySQLConnection’, ‘db_begin.DBIConnection’, ‘db_begin.MySQLConnection’, ‘db_begin.PostgreSQLConnection’, ‘db_commit.DBIConnection’, ‘db_commit.MySQLConnection’, ‘db_create_index.DBIConnection’, ‘db_create_index.MySQLConnection’, ‘db_create_indexes.DBIConnection’, ‘db_create_table.DBIConnection’, ‘db_data_type.DBIConnection’, ‘db_data_type.MySQLConnection’, ‘db_drop_table.DBIConnection’, ‘db_explain.DBIConnection’, ‘db_explain.PostgreSQLConnection’, ‘db_has_table.DBIConnection’, ‘db_has_table.MySQLConnection’, ‘db_has_table.PostgreSQLConnection’, ‘db_insert_into.MySQLConnection’, ‘db_insert_into.PostgreSQLConnection’, ‘db_insert_into.SQLiteConnection’, ‘db_list_tables.DBIConnection’, ‘db_query_fields.DBIConnection’, ‘db_query_fields.DBITestConnection’, ‘db_query_fields.PostgreSQLConnection’, ‘db_query_rows.DBIConnection’, ‘db_rollback.DBIConnection’, ‘db_save_query.DBIConnection’, ‘dim.tbl_cube’, ‘dim.tbl_sql’, ‘dimnames.tbl_sql’, ‘distinct_.data.frame’, ‘distinct_.grouped_df’, ‘distinct_.tbl_df’, ‘distinct_.tbl_lazy’, ‘do_.NULL’, ‘do_.data.frame’, ‘do_.grouped_df’, ‘do_.rowwise_df’, ‘do_.tbl_sql’, ‘escape.NULL’, ‘escape.Date’, ‘escape.POSIXt’, ‘escape.character’, ‘escape.double’, ‘escape.factor’, ‘escape.ident’, ‘escape.integer’, ‘escape.list’, ‘escape.logical’, ‘escape.sql’, ‘explain.tbl_sql’, ‘filter_.data.frame’, ‘filter_.tbl_cube’, ‘filter_.tbl_df’, ‘filter_.tbl_lazy’, ‘format.ident’, ‘format.sql’, ‘format.src_local’, ‘format.src_sql’, ‘full_join.data.frame’, ‘full_join.tbl_df’, ‘full_join.tbl_lazy’, ‘group_by_.data.frame’, ‘group_by_.rowwise_df’, ‘group_by_.tbl_cube’, ‘group_by_.tbl_lazy’, ‘group_indices_.data.frame’, ‘group_indices_.grouped_df’, ‘group_size.data.frame’, ‘group_size.grouped_df’, ‘group_size.rowwise_df’, ‘group_size.tbl_sql’, ‘groups.data.frame’, ‘groups.grouped_df’, ‘groups.tbl_cube’, ‘groups.tbl_lazy’, ‘head.tbl_lazy’, ‘inner_join.data.frame’, ‘inner_join.tbl_df’, ‘inner_join.tbl_lazy’, ‘intersect.data.frame’, ‘intersect.default’, ‘intersect.tbl_lazy’, ‘left_join.data.frame’, ‘left_join.tbl_df’, ‘left_join.tbl_lazy’, ‘mutate_.data.frame’, ‘mutate_.tbl_df’, ‘mutate_.tbl_lazy’, ‘n_groups.data.frame’, ‘n_groups.grouped_df’, ‘n_groups.rowwise_df’, ‘n_groups.tbl_sql’, ‘names.sql_variant’, ‘op_grps.op_base’, ‘op_grps.op_double’, ‘op_grps.op_group_by’, ‘op_grps.op_single’, ‘op_grps.op_summarise’, ‘op_grps.op_ungroup’, ‘op_grps.tbl_lazy’, ‘op_sort.op_arrange’, ‘op_sort.op_base’, ‘op_sort.op_double’, ‘op_sort.op_single’, ‘op_sort.op_summarise’, ‘op_sort.tbl_lazy’, ‘op_vars.op_base’, ‘op_vars.op_join’, ‘op_vars.op_mutate’, ‘op_vars.op_rename’, ‘op_vars.op_select’, ‘op_vars.op_semi_join’, ‘op_vars.op_set_op’, ‘op_vars.op_single’, ‘op_vars.op_summarise’, ‘op_vars.tbl_lazy’, ‘print.BoolResult’, ‘print.fun_list’, ‘print.grouped_df’, ‘print.join_query’, ‘print.location’, ‘print.op_base_local’, ‘print.op_base_remote’, ‘print.op_single’, ‘print.rowwise_df’, ‘print.select_query’, ‘print.semi_join_query’, ‘print.set_op_query’, ‘print.sql’, ‘print.sql_variant’, ‘print.src’, ‘print.tbl_cube’, ‘print.tbl_lazy’, ‘print.tbl_sql’, ‘query.DBIConnection’, ‘rbind.grouped_df’, ‘recode.character’, ‘recode.factor’, ‘recode.numeric’, ‘rename_.data.frame’, ‘rename_.grouped_df’, ‘rename_.tbl_cube’, ‘rename_.tbl_lazy’, ‘right_join.data.frame’, ‘right_join.tbl_df’, ‘right_join.tbl_lazy’, ‘same_src.data.frame’, ‘same_src.src_sql’, ‘same_src.tbl_cube’, ‘same_src.tbl_lazy’, ‘same_src.tbl_sql’, ‘sample_frac.data.frame’, ‘sample_frac.default’, ‘sample_frac.grouped_df’, ‘sample_n.data.frame’, ‘sample_n.default’, ‘sample_n.grouped_df’, ‘select_.data.frame’, ‘select_.grouped_df’, ‘select_.tbl_cube’, ‘select_.tbl_lazy’, ‘semi_join.data.frame’, ‘semi_join.tbl_df’, ‘semi_join.tbl_lazy’, ‘setdiff.data.frame’, ‘setdiff.default’, ‘setdiff.tbl_lazy’, ‘setequal.data.frame’, ‘setequal.default’, ‘slice_.data.frame’, ‘slice_.tbl_df’, ‘sql_build.op_arrange’, ‘sql_build.op_base_local’, ‘sql_build.op_base_remote’, ‘sql_build.op_distinct’, ‘sql_build.op_filter’, ‘sql_build.op_group_by’, ‘sql_build.op_head’, ‘sql_build.op_join’, ‘sql_build.op_mutate’, ‘sql_build.op_rename’, ‘sql_build.op_select’, ‘sql_build.op_semi_join’, ‘sql_build.op_set_op’, ‘sql_build.op_summarise’, ‘sql_build.op_ungroup’, ‘sql_build.tbl_lazy’, ‘sql_build.tbl_sql’, ‘sql_escape_ident.DBITestConnection’, ‘sql_escape_ident.MySQLConnection’, ‘sql_escape_ident.SQLiteConnection’, ‘sql_escape_ident.default’, ‘sql_escape_string.default’, ‘sql_join.default’, ‘sql_render.ident’, ‘sql_render.join_query’, ‘sql_render.op’, ‘sql_render.select_query’, ‘sql_render.semi_join_query’, ‘sql_render.set_op_query’, ‘sql_render.sql’, ‘sql_render.tbl_lazy’, ‘sql_render.tbl_sql’, ‘sql_select.default’, ‘sql_semi_join.default’, ‘sql_set_op.default’, ‘sql_subquery.SQLiteConnection’, ‘sql_subquery.default’, ‘sql_translate_env.NULL’, ‘sql_translate_env.DBITestConnection’, ‘sql_translate_env.MySQLConnection’, ‘sql_translate_env.PostgreSQLConnection’, ‘sql_translate_env.SQLiteConnection’, ‘src_desc.src_mysql’, ‘src_desc.src_postgres’, ‘src_desc.src_sqlite’, ‘src_tbls.src_local’, ‘src_tbls.src_sql’, ‘summarise_.data.frame’, ‘summarise_.tbl_cube’, ‘summarise_.tbl_df’, ‘summarise_.tbl_lazy’, ‘tail.tbl_sql’, ‘tbl.src_local’, ‘tbl.src_mysql’, ‘tbl.src_postgres’, ‘tbl.src_sqlite’, ‘tbl_vars.data.frame’, ‘tbl_vars.tbl_cube’, ‘tbl_vars.tbl_lazy’, ‘transmute_.default’, ‘ungroup.data.frame’, ‘ungroup.grouped_df’, ‘ungroup.rowwise_df’, ‘ungroup.tbl_lazy’, ‘union.data.frame’, ‘union.default’, ‘union.tbl_lazy’, ‘union_all.data.frame’, ‘union_all.default’, ‘union_all.tbl_lazy’, ‘unique.sql’ were declared in NAMESPACE but not found"
     ]
    }
   ],
   "source": [
    "install.packages(\"dplyr\")\n",
    "library(dplyr)\n",
    "\n",
    "if(!dir.exists(\"./data\")){ \n",
    "    dir.create(\"./data\")\n",
    "}\n",
    "\n",
    "dataset_archive <- \"./data/UCI_HAR_Dataset.zip\"\n",
    "if(!file.exists(dataset_archive)){\n",
    "    download.file(url=\"https://d396qusza40orc.cloudfront.net/getdata%2Fprojectfiles%2FUCI%20HAR%20Dataset.zip\", destfile = dataset_archive)\n",
    "    unzip(zipfile = dataset_archive, exdir = \"./data/\")    \n",
    "}"
   ]
  },
  {
   "cell_type": "code",
   "execution_count": 49,
   "metadata": {
    "collapsed": false
   },
   "outputs": [],
   "source": [
    "# Read test data set\n",
    "test_ds_X <- read.table(file = \"./data/UCI HAR Dataset/test/X_test.txt\")\n",
    "test_ds_y <- read.table(file = \"./data/UCI HAR Dataset/test/y_test.txt\")\n",
    "test_ds_subject <- read.table(file = \"./data/UCI HAR Dataset/test/subject_test.txt\")\n",
    "test_ds <- cbind(test_ds_X, test_ds_y, test_ds_subject)"
   ]
  },
  {
   "cell_type": "code",
   "execution_count": 50,
   "metadata": {
    "collapsed": false
   },
   "outputs": [],
   "source": [
    "# Read train data set\n",
    "train_ds_X <- read.table(file = \"./data/UCI HAR Dataset/train/X_train.txt\")\n",
    "train_ds_y <- read.table(file = \"./data/UCI HAR Dataset/train/y_train.txt\")\n",
    "train_ds_subject <- read.table(file = \"./data/UCI HAR Dataset/train/subject_train.txt\")\n",
    "train_ds <- cbind(train_ds_X, train_ds_y, train_ds_subject)"
   ]
  },
  {
   "cell_type": "code",
   "execution_count": 51,
   "metadata": {
    "collapsed": false
   },
   "outputs": [],
   "source": [
    "# Read features' names and activity labels\n",
    "features <- read.table(file=\"./data/UCI HAR Dataset/features.txt\", sep=\" \", stringsAsFactors = F)\n",
    "labels <- c(as.vector(features$V2), \"Activity\", \"Subject\")\n",
    "activities <- read.table(file=\"./data//UCI HAR Dataset/activity_labels.txt\", sep=\" \", stringsAsFactors = F)"
   ]
  },
  {
   "cell_type": "code",
   "execution_count": 52,
   "metadata": {
    "collapsed": false
   },
   "outputs": [],
   "source": [
    "# Step 1: Merges the training and the test sets to create one data set\n",
    "full_ds <- rbind(train_ds, test_ds)\n",
    "names(full_ds) <- labels"
   ]
  },
  {
   "cell_type": "code",
   "execution_count": 53,
   "metadata": {
    "collapsed": false
   },
   "outputs": [],
   "source": [
    "# Step 2: Extracts only the measurements on the mean and standard deviation for each measurement.\n",
    "labels <- labels[grep(\"(mean\\\\(|std\\\\()|Activity|Subject\", labels)]\n",
    "full_ds <- full_ds[labels]"
   ]
  },
  {
   "cell_type": "code",
   "execution_count": 54,
   "metadata": {
    "collapsed": false
   },
   "outputs": [],
   "source": [
    "# Step 3,4: Uses descriptive activity names to name the activities in the data set\n",
    "full_ds <- merge(full_ds, activities, by.x=\"Activity\", by.y =\"V1\")\n",
    "full_ds$Activity <- full_ds$V2\n",
    "full_ds <- subset(full_ds, select = -c(V2))\n",
    "write.table(full_ds, file = \"step4_data.table\")"
   ]
  },
  {
   "cell_type": "code",
   "execution_count": 56,
   "metadata": {
    "collapsed": false
   },
   "outputs": [],
   "source": [
    "# Step 5: Creates independent tidy data set with the average of each variable for each activity and each subject\n",
    "grouped_means <- full_ds %>% group_by(Activity, Subject) %>% summarise_each(funs(mean))\n",
    "write.table(grouped_means, file = \"step5_data.table\", row.names = F)"
   ]
  }
 ],
 "metadata": {
  "kernelspec": {
   "display_name": "R",
   "language": "R",
   "name": "ir"
  },
  "language_info": {
   "codemirror_mode": "r",
   "file_extension": ".r",
   "mimetype": "text/x-r-source",
   "name": "R",
   "pygments_lexer": "r",
   "version": "3.3.1"
  }
 },
 "nbformat": 4,
 "nbformat_minor": 0
}
